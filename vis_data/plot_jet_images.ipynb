{
 "cells": [
  {
   "cell_type": "code",
   "execution_count": 1,
   "id": "right-product",
   "metadata": {},
   "outputs": [],
   "source": [
    "import h5py\n",
    "import matplotlib.pyplot as plt\n",
    "import numpy as np\n",
    "import pathlib\n",
    "from matplotlib.colors import LogNorm\n",
    "from mpl_toolkits.axes_grid1 import make_axes_locatable\n",
    "path = pathlib.Path.cwd()\n",
    "plt.rcParams['font.family'] = 'serif'\n",
    "plt.rcParams['figure.autolayout'] = True\n",
    "plt.rcParams.update({'font.size': 12})"
   ]
  },
  {
   "cell_type": "code",
   "execution_count": 16,
   "id": "italian-robert",
   "metadata": {},
   "outputs": [
    {
     "data": {
      "image/png": "[encoded data removed]",
      "text/plain": [
       "<Figure size 576x288 with 2 Axes>"
      ]
     },
     "metadata": {
      "needs_background": "light"
     },
     "output_type": "display_data"
    }
   ],
   "source": [
    "hf = h5py.File(path.parent / \"data\" / \"jet_images_chan_1.h5\", \"r\")\n",
    "cmap = \"gist_heat\"\n",
    "\n",
    "j0 = np.zeros((32,32,1))\n",
    "b0 = np.zeros((32,32,1))\n",
    "jet_images = hf[\"features\"]\n",
    "targets = hf[\"targets\"]\n",
    "for X, y in zip(jet_images, targets):\n",
    "    if y == 0:\n",
    "        b0+= X\n",
    "    elif y == 1:\n",
    "        j0 += X\n",
    "fig, ax = plt.subplots(1, 2, figsize=(8,4), sharex=True, sharey=True)\n",
    "b0 /= np.sum(b0)\n",
    "j0 /= np.sum(j0)\n",
    "ax[0].imshow(b0, norm=LogNorm(), cmap=cmap)\n",
    "ax[1].imshow(j0, norm=LogNorm(), cmap=cmap)\n",
    "ax[0].set_title(\"Bkg.\")\n",
    "ax[1].set_title(\"Sig.\")\n",
    "ax[0].set_yticklabels([])\n",
    "ax[0].set_xticklabels([])\n",
    "ax[1].set_yticklabels([])\n",
    "ax[1].set_xticklabels([])\n",
    "plt.savefig(path.parent / \"figures\" / \"jet_images\" / \"png\" / f\"jet_images.png\")\n",
    "plt.savefig(path.parent / \"figures\" / \"jet_images\" / \"pdf\" / f\"jet_images.pdf\")\n",
    "hf.close()"
   ]
  },
  {
   "cell_type": "code",
   "execution_count": null,
   "id": "partial-industry",
   "metadata": {},
   "outputs": [],
   "source": []
  }
 ],
 "metadata": {
  "kernelspec": {
   "display_name": "Python 3",
   "language": "python",
   "name": "python3"
  },
  "language_info": {
   "codemirror_mode": {
    "name": "ipython",
    "version": 3
   },
   "file_extension": ".py",
   "mimetype": "text/x-python",
   "name": "python",
   "nbconvert_exporter": "python",
   "pygments_lexer": "ipython3",
   "version": "3.8.5"
  }
 },
 "nbformat": 4,
 "nbformat_minor": 5
}
