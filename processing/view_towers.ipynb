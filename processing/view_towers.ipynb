{
 "cells": [
  {
   "cell_type": "code",
   "execution_count": 2,
   "id": "aerial-means",
   "metadata": {},
   "outputs": [],
   "source": [
    "import pathlib\n",
    "import pandas as pd\n",
    "import numpy as np\n",
    "from tqdm import tqdm\n",
    "path = pathlib.Path.cwd()"
   ]
  },
  {
   "cell_type": "code",
   "execution_count": 3,
   "id": "rural-brooklyn",
   "metadata": {},
   "outputs": [
    {
     "name": "stderr",
     "output_type": "stream",
     "text": [
      "100%|██████████| 993/993 [06:11<00:00,  2.68it/s]"
     ]
    },
    {
     "name": "stdout",
     "output_type": "stream",
     "text": [
      "1p0 7279683\n"
     ]
    },
    {
     "name": "stderr",
     "output_type": "stream",
     "text": [
      "\n"
     ]
    }
   ],
   "source": [
    "rinvs = [\"1p0\"]\n",
    "for rinv in rinvs:\n",
    "    root_exports_path = pathlib.Path.home().parent.parent / \"media\" / \"Dropbox2\" / \"Projects\" / \"semi-visible-jets-ml\" / \"data\" / \"root_exports\" / rinv\n",
    "    entry_count = 0\n",
    "    for idx, tower_file in enumerate(tqdm(list(root_exports_path.glob(\"*.h5\")))):\n",
    "        tower_events = pd.read_hdf(tower_file, \"Tower\")\n",
    "        tower_events = tower_events.astype(np.float64)\n",
    "        entries = len(tower_events.groupby(\"entry\"))\n",
    "        entry_count += entries\n",
    "    print(rinv, entry_count)\n",
    "#         break\n",
    "#         for entry, tower in tower_events.groupby(\"entry\"):\n",
    "#             print(entry, tower)\n"
   ]
  },
  {
   "cell_type": "code",
   "execution_count": null,
   "id": "ambient-visibility",
   "metadata": {},
   "outputs": [],
   "source": []
  }
 ],
 "metadata": {
  "kernelspec": {
   "display_name": "Python 3",
   "language": "python",
   "name": "python3"
  },
  "language_info": {
   "codemirror_mode": {
    "name": "ipython",
    "version": 3
   },
   "file_extension": ".py",
   "mimetype": "text/x-python",
   "name": "python",
   "nbconvert_exporter": "python",
   "pygments_lexer": "ipython3",
   "version": "3.8.5"
  }
 },
 "nbformat": 4,
 "nbformat_minor": 5
}
