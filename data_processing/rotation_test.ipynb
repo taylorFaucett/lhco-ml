{
 "cells": [
  {
   "cell_type": "code",
   "execution_count": 2,
   "id": "satisfactory-assumption",
   "metadata": {},
   "outputs": [],
   "source": [
    "import numpy as np\n",
    "import matplotlib.pyplot as plt\n",
    "%matplotlib inline\n",
    "from ipywidgets import interact, interactive, fixed, interact_manual\n",
    "import ipywidgets as widgets"
   ]
  },
  {
   "cell_type": "code",
   "execution_count": 7,
   "id": "sealed-azerbaijan",
   "metadata": {},
   "outputs": [
    {
     "name": "stdout",
     "output_type": "stream",
     "text": [
      "[[22.70975708  0.18040978 -0.34250344  0.68602816]\n",
      " [26.13832125  0.          0.          0.54707781]]\n"
     ]
    }
   ],
   "source": [
    "X = np.random.random((2, 4))\n",
    "X[:,0] = 50*X[:,0]\n",
    "pt_max = np.argmax(X[:,0])\n",
    "X[:,1] -= X[:,1][pt_max]\n",
    "X[:,2] -= X[:,2][pt_max]\n",
    "\n",
    "print(X)"
   ]
  },
  {
   "cell_type": "code",
   "execution_count": 9,
   "id": "supreme-depth",
   "metadata": {},
   "outputs": [
    {
     "data": {
      "image/png": "[encoded data removed]",
      "text/plain": [
       "<Figure size 432x288 with 1 Axes>"
      ]
     },
     "metadata": {
      "needs_background": "light"
     },
     "output_type": "display_data"
    },
    {
     "data": {
      "text/plain": [
       "<Figure size 432x288 with 0 Axes>"
      ]
     },
     "metadata": {},
     "output_type": "display_data"
    }
   ],
   "source": [
    "# x1 = x*cos(theta) - y*sin(theta) \n",
    "# y1 = xsin(theta) + ycos(theta) \n",
    "\n",
    "def rotate(X, rad):\n",
    "    x = X[:,1]\n",
    "    y = X[:,2]\n",
    "    xx = np.cos(rad)*x - np.sin(rad)*y\n",
    "    yy = np.sin(rad)*x + np.cos(rad)*y\n",
    "    X[:,1] = xx\n",
    "    X[:,2] = yy\n",
    "    return X\n",
    "\n",
    "def plot_func(theta):\n",
    "    plt.scatter(X[:,1], X[:,2], X[:,0])\n",
    "    plt.scatter(0,0,100)\n",
    "    X_rotated = rotate(X, theta)\n",
    "    plt.scatter(X_rotated[:,1], X_rotated[:,2], X_rotated[:,0], \"r\")\n",
    "    plt.xlim([-1,1])\n",
    "    plt.ylim([-1,1])\n",
    "    plt.show()\n",
    "    plt.clf()\n",
    "plot_func(2.5)"
   ]
  },
  {
   "cell_type": "code",
   "execution_count": null,
   "id": "eight-devil",
   "metadata": {},
   "outputs": [],
   "source": []
  }
 ],
 "metadata": {
  "kernelspec": {
   "display_name": "Python 3",
   "language": "python",
   "name": "python3"
  },
  "language_info": {
   "codemirror_mode": {
    "name": "ipython",
    "version": 3
   },
   "file_extension": ".py",
   "mimetype": "text/x-python",
   "name": "python",
   "nbconvert_exporter": "python",
   "pygments_lexer": "ipython3",
   "version": "3.8.5"
  }
 },
 "nbformat": 4,
 "nbformat_minor": 5
}
