{
 "cells": [
  {
   "cell_type": "code",
   "execution_count": 27,
   "id": "sunset-scoop",
   "metadata": {},
   "outputs": [],
   "source": [
    "from average_decision_ordering import calc_ado\n",
    "import numpy as np\n",
    "import pandas as pd\n",
    "from itertools import product\n",
    "from tqdm import tqdm\n",
    "import pathlib\n",
    "path = pathlib.Path.cwd()"
   ]
  },
  {
   "cell_type": "code",
   "execution_count": 40,
   "id": "patent-dominican",
   "metadata": {},
   "outputs": [
    {
     "name": "stderr",
     "output_type": "stream",
     "text": [
      "100%|██████████| 15/15 [00:06<00:00,  2.28it/s]\n"
     ]
    },
    {
     "ename": "ValueError",
     "evalue": "DataFrame constructor not properly called!",
     "output_type": "error",
     "traceback": [
      "\u001b[0;31m---------------------------------------------------------------------------\u001b[0m",
      "\u001b[0;31mValueError\u001b[0m                                Traceback (most recent call last)",
      "\u001b[0;32m<ipython-input-40-7d8091316d7e>\u001b[0m in \u001b[0;36m<module>\u001b[0;34m\u001b[0m\n\u001b[1;32m      9\u001b[0m \u001b[0mys\u001b[0m \u001b[0;34m=\u001b[0m \u001b[0mpd\u001b[0m\u001b[0;34m.\u001b[0m\u001b[0mDataFrame\u001b[0m\u001b[0;34m(\u001b[0m\u001b[0;34m)\u001b[0m\u001b[0;34m\u001b[0m\u001b[0;34m\u001b[0m\u001b[0m\n\u001b[1;32m     10\u001b[0m \u001b[0;32mfor\u001b[0m \u001b[0mrinv\u001b[0m \u001b[0;32min\u001b[0m \u001b[0;34m(\u001b[0m\u001b[0;34m\"0p0\"\u001b[0m\u001b[0;34m,\u001b[0m \u001b[0;34m\"0p3\"\u001b[0m\u001b[0;34m,\u001b[0m \u001b[0;34m\"1p0\"\u001b[0m\u001b[0;34m)\u001b[0m\u001b[0;34m:\u001b[0m\u001b[0;34m\u001b[0m\u001b[0;34m\u001b[0m\u001b[0m\n\u001b[0;32m---> 11\u001b[0;31m     \u001b[0mdfy\u001b[0m \u001b[0;34m=\u001b[0m \u001b[0mpd\u001b[0m\u001b[0;34m.\u001b[0m\u001b[0mDataFrame\u001b[0m\u001b[0;34m(\u001b[0m\u001b[0mpath\u001b[0m\u001b[0;34m.\u001b[0m\u001b[0mparent\u001b[0m \u001b[0;34m/\u001b[0m \u001b[0;34m\"data\"\u001b[0m \u001b[0;34m/\u001b[0m \u001b[0;34m\"HL\"\u001b[0m \u001b[0;34m/\u001b[0m \u001b[0;34mf\"HL-{rinv}.h5\"\u001b[0m\u001b[0;34m,\u001b[0m \u001b[0;34m\"targets\"\u001b[0m\u001b[0;34m)\u001b[0m\u001b[0;34m\u001b[0m\u001b[0;34m\u001b[0m\u001b[0m\n\u001b[0m\u001b[1;32m     12\u001b[0m     \u001b[0mys\u001b[0m \u001b[0;34m=\u001b[0m \u001b[0mpd\u001b[0m\u001b[0;34m.\u001b[0m\u001b[0mconcat\u001b[0m\u001b[0;34m(\u001b[0m\u001b[0;34m[\u001b[0m\u001b[0mys\u001b[0m\u001b[0;34m,\u001b[0m \u001b[0mdfy\u001b[0m\u001b[0;34m]\u001b[0m\u001b[0;34m,\u001b[0m \u001b[0maxis\u001b[0m\u001b[0;34m=\u001b[0m\u001b[0;36m1\u001b[0m\u001b[0;34m)\u001b[0m\u001b[0;34m\u001b[0m\u001b[0;34m\u001b[0m\u001b[0m\n\u001b[1;32m     13\u001b[0m \u001b[0mprint\u001b[0m\u001b[0;34m(\u001b[0m\u001b[0mdf\u001b[0m\u001b[0;34m)\u001b[0m\u001b[0;34m\u001b[0m\u001b[0;34m\u001b[0m\u001b[0m\n",
      "\u001b[0;32m~/miniconda3/envs/tf/lib/python3.8/site-packages/pandas/core/frame.py\u001b[0m in \u001b[0;36m__init__\u001b[0;34m(self, data, index, columns, dtype, copy)\u001b[0m\n\u001b[1;32m    588\u001b[0m         \u001b[0;32melse\u001b[0m\u001b[0;34m:\u001b[0m\u001b[0;34m\u001b[0m\u001b[0;34m\u001b[0m\u001b[0m\n\u001b[1;32m    589\u001b[0m             \u001b[0;32mif\u001b[0m \u001b[0mindex\u001b[0m \u001b[0;32mis\u001b[0m \u001b[0;32mNone\u001b[0m \u001b[0;32mor\u001b[0m \u001b[0mcolumns\u001b[0m \u001b[0;32mis\u001b[0m \u001b[0;32mNone\u001b[0m\u001b[0;34m:\u001b[0m\u001b[0;34m\u001b[0m\u001b[0;34m\u001b[0m\u001b[0m\n\u001b[0;32m--> 590\u001b[0;31m                 \u001b[0;32mraise\u001b[0m \u001b[0mValueError\u001b[0m\u001b[0;34m(\u001b[0m\u001b[0;34m\"DataFrame constructor not properly called!\"\u001b[0m\u001b[0;34m)\u001b[0m\u001b[0;34m\u001b[0m\u001b[0;34m\u001b[0m\u001b[0m\n\u001b[0m\u001b[1;32m    591\u001b[0m \u001b[0;34m\u001b[0m\u001b[0m\n\u001b[1;32m    592\u001b[0m             \u001b[0;32mif\u001b[0m \u001b[0;32mnot\u001b[0m \u001b[0mdtype\u001b[0m\u001b[0;34m:\u001b[0m\u001b[0;34m\u001b[0m\u001b[0;34m\u001b[0m\u001b[0m\n",
      "\u001b[0;31mValueError\u001b[0m: DataFrame constructor not properly called!"
     ]
    }
   ],
   "source": [
    "results_path = path / \"results\" / \"bootstrap\" \n",
    "df = pd.DataFrame()\n",
    "for pred_file in tqdm(list(results_path.rglob(\"ll_predictions_0.npy\"))):\n",
    "    deets = str(pred_file).split(\"/\")\n",
    "    label = f\"{deets[-4]}_{deets[-3]}\"\n",
    "    data = pd.DataFrame({label: np.hstack(np.load(pred_file))})\n",
    "    df = pd.concat([df, data], axis=1)"
   ]
  },
  {
   "cell_type": "code",
   "execution_count": 47,
   "id": "acute-glance",
   "metadata": {},
   "outputs": [
    {
     "name": "stdout",
     "output_type": "stream",
     "text": [
      "           CNN_1_0p3     CNN_1_1p0  CNN_1_0p0  CNN_2_0p3     CNN_2_1p0  \\\n",
      "0       9.254444e-10  9.964536e-01   0.006464   0.000053  9.968291e-01   \n",
      "1       9.917690e-04  3.986901e-08   0.999995   0.001512  9.447006e-06   \n",
      "2       7.398299e-03  9.977360e-01   0.999940   0.000070  9.969307e-01   \n",
      "3       9.926291e-01  9.999413e-01   0.422683   0.996739  9.973003e-01   \n",
      "4       9.999328e-01  9.990017e-01   0.000436   0.999895  9.850632e-01   \n",
      "...              ...           ...        ...        ...           ...   \n",
      "290875  2.071532e-04  1.160450e-01   0.992490   0.000002  3.623620e-04   \n",
      "290876  9.979455e-01  9.998430e-01   0.009248   0.999794  9.999913e-01   \n",
      "290877  9.793763e-01  1.000000e+00   0.999936   0.995574  9.999987e-01   \n",
      "290878  1.901706e-06  2.851932e-03   0.000227   0.000005  3.730778e-10   \n",
      "290879  9.997408e-01  9.999998e-01   0.215365   0.998504  9.999993e-01   \n",
      "\n",
      "           CNN_2_0p0   PFN_0p3   PFN_1p0   PFN_0p0   EFN_0p3   EFN_1p0  \\\n",
      "0       6.484079e-05  0.002022  1.000000  0.018269  0.000057  1.000000   \n",
      "1       9.999994e-01  0.065442  0.000170  0.999373  0.019300  0.000364   \n",
      "2       9.999954e-01  0.001710  1.000000  0.999866  0.035722  1.000000   \n",
      "3       9.935910e-01  0.985494  1.000000  0.999999  0.982201  0.999860   \n",
      "4       1.799363e-08  1.000000  1.000000  0.000009  0.999960  0.999999   \n",
      "...              ...       ...       ...       ...       ...       ...   \n",
      "290875  9.999999e-01  0.003773  0.195875  0.999157  0.002721  0.982347   \n",
      "290876  7.849510e-06  0.962942  1.000000  0.000058  0.970061  1.000000   \n",
      "290877  9.999992e-01  0.999981  1.000000  1.000000  0.999667  1.000000   \n",
      "290878  8.512097e-09  0.004251  0.017694  0.013742  0.020736  0.000329   \n",
      "290879  1.482390e-08  0.998218  1.000000  0.037848  0.999183  1.000000   \n",
      "\n",
      "         EFN_0p0    HL_0p3        HL_1p0    HL_0p0  \n",
      "0       0.010433  0.124530  9.965975e-01  0.041168  \n",
      "1       0.990297  0.001042  1.793148e-05  0.956436  \n",
      "2       0.998876  0.105680  9.999981e-01  0.780045  \n",
      "3       0.995475  0.962731  9.999183e-01  0.974991  \n",
      "4       0.000108  0.457043  9.994030e-01  0.000052  \n",
      "...          ...       ...           ...       ...  \n",
      "290875  0.980688  0.012052  3.446714e-05  0.990830  \n",
      "290876  0.190494  0.976291  9.991824e-01  0.000021  \n",
      "290877  0.999494  0.985097  9.870587e-01  0.870471  \n",
      "290878  0.020253  0.000012  2.712594e-08  0.000356  \n",
      "290879  0.004476  0.998484  9.921039e-01  0.437549  \n",
      "\n",
      "[290880 rows x 15 columns]\n",
      "        0p0  0p3  1p0\n",
      "0       0.0  0.0  1.0\n",
      "1       1.0  0.0  0.0\n",
      "2       1.0  0.0  1.0\n",
      "3       1.0  1.0  1.0\n",
      "4       0.0  1.0  1.0\n",
      "...     ...  ...  ...\n",
      "290875  1.0  0.0  0.0\n",
      "290876  0.0  1.0  1.0\n",
      "290877  1.0  1.0  1.0\n",
      "290878  0.0  0.0  0.0\n",
      "290879  0.0  1.0  1.0\n",
      "\n",
      "[290880 rows x 3 columns]\n"
     ]
    }
   ],
   "source": [
    "ys = pd.DataFrame()\n",
    "for rinv in (\"0p0\", \"0p3\", \"1p0\"):\n",
    "    dfy = pd.read_hdf(path.parent / \"data\" / \"HL\" / f\"HL-{rinv}.h5\", \"targets\").iloc[:290880].rename(columns={'targets': rinv})\n",
    "    ys = pd.concat([ys, dfy], axis=1)\n",
    "print(df)\n",
    "print(ys)"
   ]
  },
  {
   "cell_type": "code",
   "execution_count": 57,
   "id": "standard-crowd",
   "metadata": {},
   "outputs": [
    {
     "name": "stdout",
     "output_type": "stream",
     "text": [
      "CNN_1_0p0 PFN_0p0 0.9954021\n",
      "CNN_2_0p0 PFN_0p0 0.9964838\n",
      "PFN_0p0 CNN_1_0p0 0.99533844\n",
      "PFN_0p0 CNN_2_0p0 0.99638057\n",
      "PFN_0p0 PFN_0p0 0.99999917\n",
      "PFN_0p0 EFN_0p0 0.99652594\n",
      "PFN_0p0 HL_0p0 0.9845223\n",
      "EFN_0p0 PFN_0p0 0.99631685\n",
      "HL_0p0 PFN_0p0 0.98487246\n",
      "CNN_1_0p3 PFN_0p3 0.98850024\n",
      "CNN_2_0p3 PFN_0p3 0.99142784\n",
      "PFN_0p3 CNN_1_0p3 0.9886662\n",
      "PFN_0p3 CNN_2_0p3 0.99132293\n",
      "PFN_0p3 PFN_0p3 0.99999917\n",
      "PFN_0p3 EFN_0p3 0.9942135\n",
      "PFN_0p3 HL_0p3 0.97852093\n",
      "EFN_0p3 PFN_0p3 0.99421614\n",
      "HL_0p3 PFN_0p3 0.97844183\n",
      "CNN_1_1p0 PFN_1p0 0.9977104\n",
      "CNN_2_1p0 PFN_1p0 0.997841\n",
      "PFN_1p0 CNN_1_1p0 0.9976502\n",
      "PFN_1p0 CNN_2_1p0 0.9977774\n",
      "PFN_1p0 PFN_1p0 1.0\n",
      "PFN_1p0 EFN_1p0 0.99840313\n",
      "PFN_1p0 HL_1p0 0.99951696\n",
      "EFN_1p0 PFN_1p0 0.9983825\n",
      "HL_1p0 PFN_1p0 0.99950063\n"
     ]
    }
   ],
   "source": [
    "labels = list(df.columns)\n",
    "pairs = list(product(labels, labels))\n",
    "rinvs = [\"0p0\", \"0p3\", \"1p0\"]\n",
    "for rinv in rinvs:\n",
    "    for p1, p2 in pairs:\n",
    "        if rinv in p1 and rinv in p2:\n",
    "            if \"PFN\" in p1 or \"PFN\" in p2:\n",
    "                d1 = df[p1].values\n",
    "                d2 = df[p2].values\n",
    "                y = ys[rinv].values\n",
    "                ado_val = calc_ado(d1, d2, y, 500000)\n",
    "                print(p1, p2, ado_val)\n",
    "            else:\n",
    "                pass"
   ]
  },
  {
   "cell_type": "code",
   "execution_count": null,
   "id": "interested-difficulty",
   "metadata": {},
   "outputs": [],
   "source": []
  }
 ],
 "metadata": {
  "kernelspec": {
   "display_name": "Python 3",
   "language": "python",
   "name": "python3"
  },
  "language_info": {
   "codemirror_mode": {
    "name": "ipython",
    "version": 3
   },
   "file_extension": ".py",
   "mimetype": "text/x-python",
   "name": "python",
   "nbconvert_exporter": "python",
   "pygments_lexer": "ipython3",
   "version": "3.8.5"
  }
 },
 "nbformat": 4,
 "nbformat_minor": 5
}
